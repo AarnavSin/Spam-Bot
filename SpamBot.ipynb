{
 "cells": [
  {
   "cell_type": "code",
   "execution_count": null,
   "metadata": {},
   "outputs": [],
   "source": [
    "'''\n",
    "Enjoy! Very basic script that allows you to spam text. \n",
    "Use this to annoy someone.\n",
    "'''\n",
    "pip install pyautogui"
   ]
  },
  {
   "cell_type": "code",
   "execution_count": null,
   "metadata": {},
   "outputs": [],
   "source": [
    "import pyautogui, time\n",
    "#Imports necessary modules."
   ]
  },
  {
   "cell_type": "code",
   "execution_count": null,
   "metadata": {
    "scrolled": false
   },
   "outputs": [],
   "source": [
    "f = open(\"insert plain text file directory here\", 'r')\n",
    "#Opens text file.\n",
    "\n",
    "time.sleep(5)\n",
    "#Time before it starts typing.\n",
    "\n",
    "for word in f:\n",
    "    pyautogui.typewrite(word)\n",
    "    pyautogui.press(\"enter\")\n",
    "#Main script. "
   ]
  }
 ],
 "metadata": {
  "kernelspec": {
   "display_name": "Python 3",
   "language": "python",
   "name": "python3"
  },
  "language_info": {
   "codemirror_mode": {
    "name": "ipython",
    "version": 3
   },
   "file_extension": ".py",
   "mimetype": "text/x-python",
   "name": "python",
   "nbconvert_exporter": "python",
   "pygments_lexer": "ipython3",
   "version": "3.8.3"
  }
 },
 "nbformat": 4,
 "nbformat_minor": 4
}
